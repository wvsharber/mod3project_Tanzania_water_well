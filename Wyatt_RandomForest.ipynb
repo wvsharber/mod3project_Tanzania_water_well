{
 "cells": [
  {
   "cell_type": "code",
   "execution_count": 1,
   "metadata": {},
   "outputs": [],
   "source": [
    "import numpy\n",
    "import pandas as pd\n",
    "from sklearn.model_selection import train_test_split\n",
    "from sklearn.dummy import DummyClassifier\n",
    "from datetime import datetime, date\n",
    "from sklearn.preprocessing import OneHotEncoder, LabelEncoder, MinMaxScaler\n",
    "from sklearn.model_selection import train_test_split, GridSearchCV\n",
    "from sklearn.linear_model import LogisticRegression\n",
    "from sklearn.metrics import accuracy_score, confusion_matrix, plot_confusion_matrix\n",
    "from sklearn.ensemble import GradientBoostingRegressor, RandomForestClassifier\n",
    "import matplotlib.pyplot as plt\n",
    "import seaborn as sns"
   ]
  },
  {
   "cell_type": "code",
   "execution_count": 31,
   "metadata": {},
   "outputs": [],
   "source": [
    "def load_data(string1, string2):\n",
    "    \"\"\"\n",
    "        pass in two strings containg csv info, this function will load the two dataframes and merge them along the column 'id'\n",
    "    \"\"\"\n",
    "    df_1 = pd.read_csv(string1)\n",
    "    df_2 = pd.read_csv(string2)\n",
    "    #merging dataframes\n",
    "    df = pd.merge(df_1, df_2, on = 'id', how = 'inner')\n",
    "    return df\n",
    "\n",
    "def drop_useless_cols(df, drop_values = []):\n",
    "    continuous_columns = ['amount_tsh', 'date_recorded', 'gps_height', 'population', 'construction_year']\n",
    "    for cont in continuous_columns:\n",
    "        if cont in drop_values:\n",
    "            print(f'you cannot drop column: {cont}')\n",
    "            return\n",
    "        \n",
    "    try:\n",
    "        df_dropped = df.drop(drop_values, axis = 1)\n",
    "        return df_dropped\n",
    "    except:\n",
    "        return df\n",
    "    \n",
    "def fix_dates(df):\n",
    "    \"\"\" will take the date of 01/01/2020 and subtract it from the 'date_recorded' column.\n",
    "        This information will be stored in column called 'days_since_recording'\n",
    "        This will also drop the 'date_recorded' column\n",
    "    \"\"\"\n",
    "    basedate = datetime(2020, 1, 1)\n",
    "    df['days_since_recording'] = df.loc[:,'date_recorded'].map(lambda x: (basedate - datetime.strptime(x, \"%Y-%m-%d\")).days)\n",
    "    df.drop(['date_recorded'], axis = 1, inplace = True)\n",
    "    return df\n",
    "\n",
    "def clean_data(df, threshold = 100):\n",
    "    # replaces NaN with a string 'not known'\n",
    "    df = df.fillna('Not Known')\n",
    "    \n",
    "    uvdict = {}\n",
    "\n",
    "    for column in df.select_dtypes(exclude=['int','float']):\n",
    "        values_list = df[column].unique()\n",
    "        uvdict[column] = len(values_list)\n",
    "\n",
    "    target_list = list(filter(lambda x: uvdict[x] > threshold, uvdict.keys()))\n",
    "                       \n",
    "                       \n",
    "    for col in target_list:\n",
    "        valued_dict = dict(df[col].value_counts())\n",
    "        safe_values = list(key for key, value in valued_dict.items() if value >= 50)\n",
    "    #     replace_values = list(filter(lambda x: x not in safe_values, all_values))\n",
    "        df.loc[:, col] = df.loc[:, col].map(lambda y: 'other' if y not in safe_values else y)\n",
    "    \n",
    "    \n",
    "    return df\n",
    "\n",
    "def bin_me(df):\n",
    "    \"\"\"\n",
    "        creates bins for construction_year based on 5 year increments\n",
    "        inaddition, values stored as year 0 will be transformed to not_available\n",
    "    \"\"\"\n",
    "    try:\n",
    "        basedate = datetime(2020, 1, 1)\n",
    "        a = list(range(1955,2016,5))\n",
    "        cut_bins = [-1]\n",
    "        cut_bins.extend(a)\n",
    "        cut_labels = ['not available', '56-60','61-65','66-70','71-75','76-80','81-85','86-90','91-95','96-00','01-05','06-10','11-15']\n",
    "        df.loc[:, 'construction_year_bin'] = pd.cut(df['construction_year'], bins = cut_bins, labels = cut_labels)\n",
    "        df.drop(['construction_year'], axis = 1, inplace = True)\n",
    "        return df\n",
    "    except:\n",
    "        if 'construction_year_bin' in df.columns:\n",
    "            print('action already performed')\n",
    "        else:\n",
    "            print('you messed up')\n",
    "\n",
    "def onehotmess(df):\n",
    "    df_objects = df.select_dtypes(exclude=['int','float']).drop(['status_group'], axis = 1)\n",
    "    df_nums = df.select_dtypes(include=['int','float'])\n",
    "\n",
    "    df_onehot = pd.get_dummies(df_objects)\n",
    "\n",
    "    df_final = pd.concat([df_nums, df_onehot], axis = 1)\n",
    "    \n",
    "    return df_final, df.status_group\n",
    "\n",
    "def normalize_func(df_values, df_target):\n",
    "    X_train, X_test, y_train, y_test = train_test_split(df_values, df_target, test_size = .05, random_state = 42)\n",
    "    scaler = MinMaxScaler()\n",
    "    \n",
    "    X_train_ = scaler.fit_transform(X_train)\n",
    "    X_test_ = scaler.transform(X_test)\n",
    "    \n",
    "    return X_train_, X_test_, y_train, y_test\n",
    "\n",
    "\n",
    "def do_everything(string1, string2, drop_values, thresh = 200):\n",
    "    \"\"\"this funciton is magical and does everything we could ever want and more\"\"\"\n",
    "    loaded_data = load_data(string1, string2)\n",
    "    df_dropped = drop_useless_cols(loaded_data, drop_values)\n",
    "    fixed_date = fix_dates(df_dropped)\n",
    "    cleaner_df = clean_data(fixed_date, thresh)\n",
    "    df_binned = bin_me(cleaner_df)\n",
    "    ohm_df, target_df = onehotmess(df_binned)\n",
    "    X_train, X_test, y_train, y_test = normalize_func(ohm_df, target_df)\n",
    "    \n",
    "    return X_train, X_test, y_train, y_test, ohm_df.columns"
   ]
  },
  {
   "cell_type": "code",
   "execution_count": 32,
   "metadata": {},
   "outputs": [],
   "source": [
    "drop_columns = ['id', 'funder', 'num_private', 'longitude', 'latitude', 'wpt_name', 'subvillage', 'region_code', 'lga',\n",
    "                'ward','recorded_by', 'scheme_name', 'extraction_type_group', 'payment', 'quality_group', \n",
    "                'quantity_group', 'source_type', 'source_class', 'waterpoint_type_group']\n",
    "\n",
    "X_train, X_test, y_train, y_test, col_names = do_everything('./data/training_data_values.csv', './data/training_data_labels.csv',\n",
    "                                                drop_columns)"
   ]
  },
  {
   "cell_type": "code",
   "execution_count": 4,
   "metadata": {},
   "outputs": [
    {
     "name": "stderr",
     "output_type": "stream",
     "text": [
      "/opt/anaconda3/envs/sklearn-0.22-env/lib/python3.7/site-packages/sklearn/dummy.py:132: FutureWarning: The default value of strategy will change from stratified to prior in 0.24.\n",
      "  \"stratified to prior in 0.24.\", FutureWarning)\n"
     ]
    },
    {
     "data": {
      "text/plain": [
       "0.44915824915824915"
      ]
     },
     "execution_count": 4,
     "metadata": {},
     "output_type": "execute_result"
    }
   ],
   "source": [
    "dummy = DummyClassifier()\n",
    "dummy.fit(X_train, y_train)\n",
    "dummy.score(X_test, y_test)"
   ]
  },
  {
   "cell_type": "code",
   "execution_count": 8,
   "metadata": {},
   "outputs": [],
   "source": [
    "RF = RandomForestClassifier(n_estimators = 100, random_state = 7)"
   ]
  },
  {
   "cell_type": "code",
   "execution_count": 9,
   "metadata": {},
   "outputs": [
    {
     "data": {
      "text/plain": [
       "RandomForestClassifier(bootstrap=True, class_weight=None, criterion='gini',\n",
       "                       max_depth=None, max_features='auto', max_leaf_nodes=None,\n",
       "                       min_impurity_decrease=0.0, min_impurity_split=None,\n",
       "                       min_samples_leaf=1, min_samples_split=2,\n",
       "                       min_weight_fraction_leaf=0.0, n_estimators=100,\n",
       "                       n_jobs=None, oob_score=False, random_state=7, verbose=0,\n",
       "                       warm_start=False)"
      ]
     },
     "execution_count": 9,
     "metadata": {},
     "output_type": "execute_result"
    }
   ],
   "source": [
    "RF.fit(X_train, y_train)"
   ]
  },
  {
   "cell_type": "code",
   "execution_count": 10,
   "metadata": {},
   "outputs": [
    {
     "data": {
      "text/plain": [
       "0.8006734006734006"
      ]
     },
     "execution_count": 10,
     "metadata": {},
     "output_type": "execute_result"
    }
   ],
   "source": [
    "RF.score(X_test, y_test)"
   ]
  },
  {
   "cell_type": "code",
   "execution_count": 14,
   "metadata": {},
   "outputs": [],
   "source": [
    "parameters = {'n_estimators': [10, 50, 100],\n",
    "              'max_depth': [None, 2, 5, 10],\n",
    "              'max_features': ['sqrt', 'log2'],\n",
    "              'min_samples_leaf': [1, 2, 5],\n",
    "              'min_samples_split': [2, 5, 10]}"
   ]
  },
  {
   "cell_type": "code",
   "execution_count": 15,
   "metadata": {},
   "outputs": [
    {
     "data": {
      "text/plain": [
       "GridSearchCV(cv=5, error_score='raise-deprecating',\n",
       "             estimator=RandomForestClassifier(bootstrap=True, class_weight=None,\n",
       "                                              criterion='gini', max_depth=None,\n",
       "                                              max_features='auto',\n",
       "                                              max_leaf_nodes=None,\n",
       "                                              min_impurity_decrease=0.0,\n",
       "                                              min_impurity_split=None,\n",
       "                                              min_samples_leaf=1,\n",
       "                                              min_samples_split=2,\n",
       "                                              min_weight_fraction_leaf=0.0,\n",
       "                                              n_estimators='warn', n_jobs=None,\n",
       "                                              oob_score=False,\n",
       "                                              random_state=None, verbose=0,\n",
       "                                              warm_start=False),\n",
       "             iid='warn', n_jobs=None,\n",
       "             param_grid={'max_depth': [None, 2, 5, 10],\n",
       "                         'max_features': ['sqrt', 'log2'],\n",
       "                         'min_samples_leaf': [1, 2, 5],\n",
       "                         'min_samples_split': [2, 5, 10],\n",
       "                         'n_estimators': [10, 50, 100]},\n",
       "             pre_dispatch='2*n_jobs', refit=True, return_train_score=False,\n",
       "             scoring='accuracy', verbose=0)"
      ]
     },
     "execution_count": 15,
     "metadata": {},
     "output_type": "execute_result"
    }
   ],
   "source": [
    "# RFcv = RandomForestClassifier()\n",
    "# GScv = GridSearchCV(RFcv, parameters, scoring = 'accuracy', cv = 5)\n",
    "# GScv.fit(X_train, y_train)"
   ]
  },
  {
   "cell_type": "code",
   "execution_count": 18,
   "metadata": {},
   "outputs": [
    {
     "data": {
      "text/plain": [
       "{'max_depth': None,\n",
       " 'max_features': 'sqrt',\n",
       " 'min_samples_leaf': 1,\n",
       " 'min_samples_split': 10,\n",
       " 'n_estimators': 100}"
      ]
     },
     "execution_count": 18,
     "metadata": {},
     "output_type": "execute_result"
    }
   ],
   "source": [
    "GScv.best_params_"
   ]
  },
  {
   "cell_type": "code",
   "execution_count": 20,
   "metadata": {},
   "outputs": [
    {
     "data": {
      "text/plain": [
       "0.803739145844409"
      ]
     },
     "execution_count": 20,
     "metadata": {},
     "output_type": "execute_result"
    }
   ],
   "source": [
    "GScv.best_score_"
   ]
  },
  {
   "cell_type": "code",
   "execution_count": 5,
   "metadata": {},
   "outputs": [
    {
     "data": {
      "text/plain": [
       "0.8117845117845118"
      ]
     },
     "execution_count": 5,
     "metadata": {},
     "output_type": "execute_result"
    }
   ],
   "source": [
    "RF_best = RandomForestClassifier(min_samples_leaf = 1, min_samples_split = 10, n_estimators = 100, random_state = 7)\n",
    "RF_best.fit(X_train, y_train)\n",
    "RF_best.score(X_test, y_test)"
   ]
  },
  {
   "cell_type": "code",
   "execution_count": 8,
   "metadata": {},
   "outputs": [
    {
     "data": {
      "text/plain": [
       "array([[1458,   29,  153],\n",
       "       [ 101,   66,   25],\n",
       "       [ 240,   11,  887]])"
      ]
     },
     "execution_count": 8,
     "metadata": {},
     "output_type": "execute_result"
    }
   ],
   "source": [
    "confusion_matrix(y_test, RF_best.predict(X_test))"
   ]
  },
  {
   "cell_type": "code",
   "execution_count": 51,
   "metadata": {},
   "outputs": [
    {
     "data": {
      "image/png": "[encoded data removed]",
      "text/plain": [
       "<Figure size 432x288 with 2 Axes>"
      ]
     },
     "metadata": {
      "needs_background": "light"
     },
     "output_type": "display_data"
    }
   ],
   "source": [
    "plot_confusion_matrix(RF_best, X_test, y_test, xticks_rotation=45, display_labels = ['Functional', 'Needs Repair \\n but Functional', 'Nonfunctional'], \n",
    "                     normalize='pred', cmap='Blues')\n",
    "plt.title(f'Random Forest Confusion Matrix \\n Accuracy: {round(RF_best.score(X_test, y_test), 2)}')\n",
    "plt.savefig('RF_confusion_matrix.png', dpi = 300, transparent = True);"
   ]
  },
  {
   "cell_type": "code",
   "execution_count": 39,
   "metadata": {},
   "outputs": [],
   "source": [
    "features = list(zip(col_names, RF_best.feature_importances_))\n",
    "features.sort(key = lambda x: x[1], reverse = True)\n",
    "features"
   ]
  },
  {
   "cell_type": "code",
   "execution_count": 48,
   "metadata": {},
   "outputs": [
    {
     "data": {
      "text/plain": [
       "[('quantity_dry', 0.09880949362903063),\n",
       " ('days_since_recording', 0.08832249464641011),\n",
       " ('gps_height', 0.05764089349071237),\n",
       " ('population', 0.03706731740824866),\n",
       " ('quantity_enough', 0.033016179431580674),\n",
       " ('waterpoint_type_other', 0.02991278126463122),\n",
       " ('extraction_type_class_other', 0.029333275583992686),\n",
       " ('amount_tsh', 0.02889376628761281),\n",
       " ('district_code', 0.028753207481692016),\n",
       " ('extraction_type_other', 0.02606936943173382),\n",
       " ('quantity_insufficient', 0.017826234820594925),\n",
       " ('payment_type_never pay', 0.01500517958597537),\n",
       " ('waterpoint_type_communal standpipe', 0.014269228950360478),\n",
       " ('construction_year_bin_06-10', 0.011385104735831982),\n",
       " ('waterpoint_type_communal standpipe multiple', 0.010203517199886622),\n",
       " ('installer_DWE', 0.009778154941370699),\n",
       " ('source_spring', 0.009168773683504387),\n",
       " ('waterpoint_type_hand pump', 0.00842130335456533),\n",
       " ('installer_other', 0.008314062451679094),\n",
       " ('management_vwc', 0.008022018067145361),\n",
       " ('extraction_type_nira/tanira', 0.007941158324854094),\n",
       " ('quantity_seasonal', 0.007779911451536485),\n",
       " ('permit_False', 0.0076130669855267365),\n",
       " ('water_quality_soft', 0.007565226982005617),\n",
       " ('permit_True', 0.007553109309705641),\n",
       " ('payment_type_per bucket', 0.007547667034843726),\n",
       " ('water_quality_unknown', 0.0071943770612188625),\n",
       " ('payment_type_unknown', 0.006871967379364708),\n",
       " ('scheme_management_VWC', 0.006779606403391256),\n",
       " ('extraction_type_class_handpump', 0.006767631501713478),\n",
       " ('public_meeting_True', 0.006650394492128204),\n",
       " ('extraction_type_class_gravity', 0.006613133151135628),\n",
       " ('extraction_type_gravity', 0.006523251417128511),\n",
       " ('source_river', 0.006158978448213623),\n",
       " ('source_shallow well', 0.006127271391358939),\n",
       " ('source_machine dbh', 0.006100800529063502),\n",
       " ('payment_type_monthly', 0.006061037009360549),\n",
       " ('public_meeting_False', 0.005578038059312682),\n",
       " ('source_rainwater harvesting', 0.005503576669403555),\n",
       " ('construction_year_bin_76-80', 0.005489914758959257),\n",
       " ('basin_Internal', 0.0053833653522226115),\n",
       " ('construction_year_bin_96-00', 0.005274837439734342),\n",
       " ('installer_Government', 0.0051606697669637925),\n",
       " ('construction_year_bin_not available', 0.005121697287087597),\n",
       " ('construction_year_bin_11-15', 0.004934404130450126),\n",
       " ('construction_year_bin_01-05', 0.004904564906968515),\n",
       " ('region_Iringa', 0.004839492119943533),\n",
       " ('basin_Lake Victoria', 0.004804809091484405),\n",
       " ('basin_Lake Tanganyika', 0.004627086791645572),\n",
       " ('basin_Lake Nyasa', 0.004588981787518784),\n",
       " ('construction_year_bin_71-75', 0.0045175746330752475),\n",
       " ('region_Kigoma', 0.004490198037101014),\n",
       " ('installer_RWE', 0.004266476350952287),\n",
       " ('region_Shinyanga', 0.004258594830057767),\n",
       " ('extraction_type_class_submersible', 0.0042190974573779235),\n",
       " ('payment_type_annually', 0.004161998655160735),\n",
       " ('construction_year_bin_81-85', 0.00412621264903168),\n",
       " ('management_group_user-group', 0.004093046528732069),\n",
       " ('installer_Not Known', 0.00405981386262792),\n",
       " ('basin_Pangani', 0.003963381603803568),\n",
       " ('basin_Rufiji', 0.0038359180915124606),\n",
       " ('water_quality_salty', 0.003685646918763579),\n",
       " ('basin_Wami / Ruvu', 0.0036171983588254913),\n",
       " ('basin_Lake Rukwa', 0.0036118237682435635),\n",
       " ('scheme_management_WUG', 0.0035090068172282983),\n",
       " ('construction_year_bin_91-95', 0.0034768103247193377),\n",
       " ('management_group_commercial', 0.003411992871431269),\n",
       " ('basin_Ruvuma / Southern Coast', 0.003410592769825702),\n",
       " ('extraction_type_class_motorpump', 0.0033060720942951188),\n",
       " ('payment_type_on failure', 0.00326877153765868),\n",
       " ('construction_year_bin_86-90', 0.003214970222028067),\n",
       " ('scheme_management_Water authority', 0.0031828679681894685),\n",
       " ('public_meeting_Not Known', 0.0031685356405124817),\n",
       " ('management_wug', 0.003129735902556775),\n",
       " ('scheme_management_Not Known', 0.0031020257571441378),\n",
       " ('waterpoint_type_improved spring', 0.0030068345860209712),\n",
       " ('region_Kilimanjaro', 0.0029623807738426012),\n",
       " ('extraction_type_submersible', 0.002925700846098251),\n",
       " ('extraction_type_swn 80', 0.002902352710864274),\n",
       " ('extraction_type_mono', 0.0028276370138576395),\n",
       " ('region_Mwanza', 0.0028236968462413917),\n",
       " ('permit_Not Known', 0.002818164611661504),\n",
       " ('source_lake', 0.002705521832386067),\n",
       " ('extraction_type_ksb', 0.002701413926292805),\n",
       " ('scheme_management_Water Board', 0.0025749952447195195),\n",
       " ('management_private operator', 0.0025116095821640966),\n",
       " ('region_Arusha', 0.002495247389840755),\n",
       " ('management_water board', 0.0024631432682106595),\n",
       " ('region_Morogoro', 0.0024031618783829814),\n",
       " ('region_Dodoma', 0.0024008415089949975),\n",
       " ('region_Mbeya', 0.0023293606358826386),\n",
       " ('region_Kagera', 0.002220672929978124),\n",
       " ('region_Pwani', 0.0021905037779991815),\n",
       " ('region_Rukwa', 0.002161970253196564),\n",
       " ('region_Ruvuma', 0.002141907324629513),\n",
       " ('region_Tanga', 0.0021222332409741515),\n",
       " ('installer_Central government', 0.002106579713245773),\n",
       " ('quantity_unknown', 0.0021057274724746223),\n",
       " ('construction_year_bin_66-70', 0.0021009431510914983),\n",
       " ('installer_District council', 0.0020970910733313242),\n",
       " ('region_Mara', 0.0020863416094066825),\n",
       " ('extraction_type_afridev', 0.0020575733671556683),\n",
       " ('extraction_type_india mark ii', 0.0019773901487533285),\n",
       " ('region_Manyara', 0.0018984170548232582),\n",
       " ('scheme_management_Company', 0.0018164683300273495),\n",
       " ('source_dam', 0.0017641324604555605),\n",
       " ('scheme_management_WUA', 0.0017436879215176027),\n",
       " ('region_Mtwara', 0.0017428470877644028),\n",
       " ('region_Singida', 0.0016593873039131629),\n",
       " ('management_wua', 0.0016054694344278528),\n",
       " ('region_Lindi', 0.001585250102060873),\n",
       " ('management_group_parastatal', 0.0015019763104502908),\n",
       " ('management_company', 0.001481560705639395),\n",
       " ('region_Tabora', 0.0014319030242591548),\n",
       " ('water_quality_milky', 0.0014312459667204529),\n",
       " ('scheme_management_Parastatal', 0.001403147887498174),\n",
       " ('installer_Commu', 0.001372837979809192),\n",
       " ('payment_type_other', 0.0012885631055007342),\n",
       " ('management_parastatal', 0.0012868140767035292),\n",
       " ('installer_TCRS', 0.0012361472506731155),\n",
       " ('installer_Hesawa', 0.0012185270087531905),\n",
       " ('installer_Centr', 0.00121605467421256),\n",
       " ('water_quality_salty abandoned', 0.0012100619342741295),\n",
       " ('installer_DANIDA', 0.0011739997361968197),\n",
       " ('management_water authority', 0.0011099068091470427),\n",
       " ('water_quality_coloured', 0.0011078162535561587),\n",
       " ('management_other', 0.0010361954953331577),\n",
       " ('installer_Sengerema Water Department', 0.0010228565257720775),\n",
       " ('source_hand dtw', 0.0010079763921629938),\n",
       " ('installer_TASAF', 0.0009647220999387971),\n",
       " ('management_group_other', 0.0009456732234916421),\n",
       " ('installer_Gover', 0.0009399036156817502),\n",
       " ('scheme_management_Private operator', 0.0009362887151861883),\n",
       " ('installer_HESAWA', 0.0009337025106270175),\n",
       " ('installer_District Council', 0.0009112038802750031),\n",
       " ('installer_Community', 0.0008839723904542013),\n",
       " ('scheme_management_Other', 0.0008405367628011261),\n",
       " ('installer_Kuwait', 0.0008127852435802246),\n",
       " ('installer_KKKT', 0.0007786830948921298),\n",
       " ('installer_LGA', 0.0007678420653205891),\n",
       " ('installer_DA', 0.0007670403320504935),\n",
       " ('installer_Central Government', 0.0007639634698733059),\n",
       " ('installer_TWESA', 0.0007296803892243441),\n",
       " ('extraction_type_class_rope pump', 0.0007215219074955291),\n",
       " ('management_group_unknown', 0.0006815303098087487),\n",
       " ('installer_World Vision', 0.0006774816843391516),\n",
       " ('extraction_type_other - rope pump', 0.0006621813782329177),\n",
       " ('installer_HE', 0.0006573001416088698),\n",
       " ('region_Dar es Salaam', 0.0006459225031228953),\n",
       " ('management_unknown', 0.0006453261057162957),\n",
       " ('construction_year_bin_61-65', 0.000639643156220338),\n",
       " ('installer_Villagers', 0.0006369076701740454),\n",
       " ('installer_World vision', 0.000621212775664433),\n",
       " ('extraction_type_other - swn 81', 0.0005678343251052477),\n",
       " ('installer_0', 0.0005463672174234983),\n",
       " ('water_quality_fluoride', 0.000529706397368525),\n",
       " ('installer_Dmdd', 0.0005265722201877153),\n",
       " ('installer_OXFAM', 0.0005152694155813726),\n",
       " ('installer_Adra/Community', 0.0004952595187173901),\n",
       " ('installer_DW', 0.0004937415367119119),\n",
       " ('installer_Central govt', 0.00048529031891271024),\n",
       " ('installer_WEDECO', 0.0004825986036130071),\n",
       " ('installer_RWE/DWE', 0.0004374604041662883),\n",
       " ('installer_WVT', 0.00043108506490325486),\n",
       " ('installer_ISF', 0.0004304138179957578),\n",
       " ('source_other', 0.00042313520606970556),\n",
       " ('installer_Kiliwater', 0.0004200504240599714),\n",
       " ('installer_AMREF', 0.0004134507833447113),\n",
       " ('extraction_type_india mark iii', 0.000408577931618032),\n",
       " ('installer_JICA', 0.00038474493609049924),\n",
       " ('waterpoint_type_cattle trough', 0.0003836025106275575),\n",
       " ('installer_SEMA', 0.00037525812985284365),\n",
       " ('installer_DHV', 0.00036719754392840285),\n",
       " ('installer_UNICEF', 0.00035784426640012945),\n",
       " ('installer_CES', 0.00035446120191490085),\n",
       " ('installer_DANID', 0.00035000898568213006),\n",
       " ('installer_OXFARM', 0.0003474272315047468),\n",
       " ('installer_DWSP', 0.0003443027988232833),\n",
       " ('installer_World', 0.0003424153215246179),\n",
       " ('installer_Idara ya maji', 0.00032944227982014643),\n",
       " ('installer_Private', 0.0003268051110483083),\n",
       " ('installer_DED', 0.0003261810878109842),\n",
       " ('installer_Gove', 0.0003228838533614528),\n",
       " ('installer_MTN', 0.0003189655293737906),\n",
       " ('installer_JAICA', 0.0003123839228641536),\n",
       " ('installer_World Bank', 0.000310746385565065),\n",
       " ('installer_Water board', 0.00030904016660821535),\n",
       " ('installer_DDCA', 0.00030346342933106914),\n",
       " ('installer_NORAD', 0.0002914706010857433),\n",
       " ('installer_Norad', 0.000287373408052119),\n",
       " ('installer_Fini water', 0.0002866720503304429),\n",
       " ('extraction_type_windmill', 0.00028356332314089395),\n",
       " ('installer_VWC', 0.00028338782237068497),\n",
       " ('installer_KKKT _ Konde and DWE', 0.00028310375572675173),\n",
       " ('installer_Ir', 0.00028104949169570993),\n",
       " ('installer_Distri', 0.0002751607201407782),\n",
       " ('installer_Amref', 0.0002669648312405476),\n",
       " ('installer_H', 0.0002658550014754556),\n",
       " ('installer_Unisef', 0.00026504753047225556),\n",
       " ('installer_DH', 0.00026293169128036676),\n",
       " ('installer_RWSSP', 0.0002580789753206282),\n",
       " ('installer_Communit', 0.0002567856963121918),\n",
       " ('installer_District water department', 0.0002530567995564606),\n",
       " ('installer_Ki', 0.00025050143916274147),\n",
       " ('installer_Mission', 0.00024791981222004907),\n",
       " ('management_trust', 0.00024128381718300842),\n",
       " ('extraction_type_class_wind-powered', 0.0002258742219801582),\n",
       " ('source_unknown', 0.00022373643213340733),\n",
       " ('installer_HSW', 0.00022008949932934984),\n",
       " ('installer_Villa', 0.0002186101389783669),\n",
       " ('extraction_type_other - play pump', 0.00021841162352835344),\n",
       " ('installer_Adra /Community', 0.00020980030296032344),\n",
       " ('extraction_type_walimi', 0.00020911924063862032),\n",
       " ('installer_NCAA', 0.00020101106805887138),\n",
       " ('installer_Is', 0.0002000356349685344),\n",
       " ('installer_Consulting Engineer', 0.00019939282793957747),\n",
       " ('installer_Go', 0.00019828492167216119),\n",
       " ('installer_FinW', 0.00019584531906155863),\n",
       " ('scheme_management_SWC', 0.00019206187908070812),\n",
       " ('scheme_management_Trust', 0.00019134154633177887),\n",
       " ('installer_Artisan', 0.00019018872566836732),\n",
       " ('installer_TASSAF', 0.00018784097377196095),\n",
       " ('extraction_type_cemo', 0.00018780319516764092),\n",
       " ('installer_RC', 0.00018432592110664335),\n",
       " ('installer_KKKT CHURCH', 0.0001822588034788503),\n",
       " ('installer_Wizara ya maji', 0.00018072684408482044),\n",
       " ('construction_year_bin_56-60', 0.00017405157197745188),\n",
       " ('installer_RC CHURCH', 0.00017022149332291545),\n",
       " ('installer_GOVER', 0.00016416051208939959),\n",
       " ('installer_AICT', 0.0001583342359830681),\n",
       " ('installer_Da', 0.00015741942825858428),\n",
       " ('installer_Water', 0.00015650915187993),\n",
       " ('installer_Roman', 0.00015545857894645043),\n",
       " ('installer_Fini Water', 0.0001524188318629989),\n",
       " ('installer_RC Church', 0.0001518113559823724),\n",
       " ('installer_SHIPO', 0.00015082399577287303),\n",
       " ('installer_WU', 0.00015078745480633058),\n",
       " ('installer_District Water Department', 0.0001504403394505619),\n",
       " ('installer_Village Council', 0.00014966521641192592),\n",
       " ('installer_MWE', 0.0001471281197974137),\n",
       " ('installer_Tardo', 0.0001467622982055271),\n",
       " ('installer_LWI', 0.0001449897688232898),\n",
       " ('installer_GTZ', 0.00014134215974859237),\n",
       " ('installer_Adra', 0.00014058477624659244),\n",
       " ('installer_DMDD', 0.0001386347569305997),\n",
       " ('installer_Jaica', 0.00013678091647470204),\n",
       " ('installer_Handeni Trunk Main(', 0.00013331141690561875),\n",
       " ('installer_GOVERNMENT', 0.00013253510416908336),\n",
       " ('installer_Finwater', 0.00013127715534274245),\n",
       " ('installer_LVIA', 0.00013059786990276176),\n",
       " ('installer_RDC', 0.00012859021594560635),\n",
       " ('installer_TLC', 0.00012720026222822964),\n",
       " ('installer_Missi', 0.00012513042128416596),\n",
       " ('installer_Magadini-Makiwaru wa', 0.0001250460192951407),\n",
       " ('installer_ADRA', 0.000123953292462193),\n",
       " ('installer_Lawatefuka water sup', 0.00011937044065285685),\n",
       " ('installer_Local te', 0.00011334146813348114),\n",
       " ('installer_Halmashauri ya wilaya sikonge', 0.00010478894393046131),\n",
       " ('installer_FW', 9.966361830248535e-05),\n",
       " ('management_other - school', 9.789534137864382e-05),\n",
       " ('installer_WATER AID', 9.245487845499486e-05),\n",
       " ('installer_FINI WATER', 9.232358209418607e-05),\n",
       " ('installer_Pr', 9.01711063030229e-05),\n",
       " ('installer_Priva', 8.403333673029447e-05),\n",
       " ('installer_Chamavita', 8.103123672614658e-05),\n",
       " ('installer_MDRDP', 7.962217139768079e-05),\n",
       " ('water_quality_fluoride abandoned', 7.572529231549407e-05),\n",
       " ('installer_Angli', 7.178403875150097e-05),\n",
       " ('installer_wananchi', 6.71252614216267e-05),\n",
       " ('extraction_type_climax', 6.537048337154695e-05),\n",
       " ('installer_DAWASCO', 6.491473390732484e-05),\n",
       " ('installer_St', 6.396786837894177e-05),\n",
       " ('installer_FIN WATER', 6.338939912706485e-05),\n",
       " ('installer_MUWSA', 6.305388888190983e-05),\n",
       " ('installer_Co', 6.264287352675363e-05),\n",
       " ('installer_ACRA', 6.05680191664911e-05),\n",
       " ('installer_Shipo', 5.895199444164638e-05),\n",
       " ('installer_TWE', 5.853101437903627e-05),\n",
       " ('installer_CDTF', 5.665024864143865e-05),\n",
       " ('installer_wanan', 5.520773754274457e-05),\n",
       " ('installer_RC Ch', 5.262199491559981e-05),\n",
       " ('installer_CEFA', 4.93542064024839e-05),\n",
       " ('installer_Wachina', 4.930395761814832e-05),\n",
       " ('installer_GEN', 4.8534021086450775e-05),\n",
       " ('installer_Wa', 4.2213926736759134e-05),\n",
       " ('installer_Oikos E .Africa', 4.0509444342812824e-05),\n",
       " ('waterpoint_type_dam', 3.745636192667885e-05),\n",
       " ('installer_Danid', 3.7278911609082287e-05),\n",
       " ('installer_Region water Department', 2.7104959041959166e-05),\n",
       " ('extraction_type_other - mkulima/shinyanga', 2.2877287147003472e-05),\n",
       " ('installer_Losaa-Kia water supp', 2.2377767630363818e-05),\n",
       " ('scheme_management_None', 8.47591671589898e-07)]"
      ]
     },
     "execution_count": 48,
     "metadata": {},
     "output_type": "execute_result"
    }
   ],
   "source": []
  },
  {
   "cell_type": "code",
   "execution_count": null,
   "metadata": {},
   "outputs": [],
   "source": []
  }
 ],
 "metadata": {
  "kernelspec": {
   "display_name": "sklearn0.22-env",
   "language": "python",
   "name": "sklearn-0.22-env"
  },
  "language_info": {
   "codemirror_mode": {
    "name": "ipython",
    "version": 3
   },
   "file_extension": ".py",
   "mimetype": "text/x-python",
   "name": "python",
   "nbconvert_exporter": "python",
   "pygments_lexer": "ipython3",
   "version": "3.7.3"
  }
 },
 "nbformat": 4,
 "nbformat_minor": 2
}
